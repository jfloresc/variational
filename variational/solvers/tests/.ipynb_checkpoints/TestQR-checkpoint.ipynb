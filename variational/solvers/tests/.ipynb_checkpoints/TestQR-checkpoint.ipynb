{
 "cells": [
  {
   "cell_type": "markdown",
   "metadata": {},
   "source": [
    "# Test QR Solver\n",
    "This notebook tests our own cython implementation of the QR-algorithm against the standard eigenvalue solver. The test data is the phi / psi data of alanine-dipeptide, downsampled to a 40ps saving interval. We use a basis of sine and cosine functions along both coordinates."
   ]
  },
  {
   "cell_type": "code",
   "execution_count": 1,
   "metadata": {
    "collapsed": false
   },
   "outputs": [],
   "source": [
    "import numpy as np\n",
    "import variational.solvers.direct as vsd\n",
    "import variational.estimators.running_moments as vrm"
   ]
  },
  {
   "cell_type": "code",
   "execution_count": 2,
   "metadata": {
    "collapsed": false
   },
   "outputs": [],
   "source": [
    "# Load test data:\n",
    "nrep = 20\n",
    "data = []\n",
    "for i in range(nrep):\n",
    "    idata = np.load(\"Ala2Data_%d.npy\"%i)\n",
    "    data.append(idata)"
   ]
  },
  {
   "cell_type": "code",
   "execution_count": 3,
   "metadata": {
    "collapsed": false
   },
   "outputs": [],
   "source": [
    "# Define basis set. This functions evaluates all Sines and Cosines up to order nmax on 1d-vector x.\n",
    "def FourierBasis(x, nmax):\n",
    "    T = x.shape[0]\n",
    "    y = np.zeros((T, 2*nmax+1))\n",
    "    y[:, 0] = 1\n",
    "    for n in range(1, nmax+1):\n",
    "        y[:, 2*n-1] = np.sin(n*x)\n",
    "        y[:, 2*n] = np.cos(n*x)\n",
    "    return y"
   ]
  },
  {
   "cell_type": "code",
   "execution_count": 4,
   "metadata": {
    "collapsed": false
   },
   "outputs": [],
   "source": [
    "# Settings:\n",
    "tau = 1\n",
    "dt = 40\n",
    "nmax = 10\n",
    "# Evaluate the functions and feed them into a correlation matrix estimator:\n",
    "est = vrm.running_covar(xy=True, symmetrize=True)\n",
    "for i in range(nrep):\n",
    "    y1 = FourierBasis(data[i][:, 0], nmax)\n",
    "    y2 = FourierBasis(data[i][:, 1], nmax)\n",
    "    y = np.hstack((y1, y2))\n",
    "    est.add(y[:-tau, :], y[tau:, :])"
   ]
  },
  {
   "cell_type": "code",
   "execution_count": 5,
   "metadata": {
    "collapsed": true
   },
   "outputs": [],
   "source": [
    "# Extract correlation matrices:\n",
    "Ct = est.cov_XY()\n",
    "C0 = est.cov_XX()"
   ]
  },
  {
   "cell_type": "code",
   "execution_count": 6,
   "metadata": {
    "collapsed": false
   },
   "outputs": [
    {
     "name": "stdout",
     "output_type": "stream",
     "text": [
      "[  1.00000000e+00   9.73591620e-01   5.73630708e-01   5.62679696e-02\n",
      "  -5.34350707e-02   3.16141153e-02  -2.83737362e-02  -2.68365898e-02\n",
      "   2.51811285e-02   2.22887188e-02  -2.16226702e-02   2.07551960e-02\n",
      "  -2.06575769e-02   1.93471441e-02  -1.92462872e-02   1.58051181e-02\n",
      "  -1.54792085e-02   1.45157979e-02   1.35745385e-02   1.33580195e-02\n",
      "  -1.31750659e-02   1.10862007e-02  -1.08998893e-02  -1.03008637e-02\n",
      "   9.51536307e-03  -9.45948716e-03  -8.92789630e-03   8.17708271e-03\n",
      "  -7.70338375e-03   7.49172695e-03   6.01114884e-03  -5.98055074e-03\n",
      "   5.36097191e-03  -5.12061197e-03   4.33937035e-03  -3.37977923e-03\n",
      "  -2.87905171e-03   2.42588671e-03   1.59703248e-03  -1.36929256e-03\n",
      "  -5.29614918e-04]\n",
      "[  1.00000000e+00   9.73591620e-01   5.73630708e-01   5.62679696e-02\n",
      "  -5.34350708e-02   3.16141152e-02  -2.83737362e-02  -2.68365898e-02\n",
      "   2.51811284e-02   2.22887187e-02  -2.16226702e-02   2.07551960e-02\n",
      "  -2.06575769e-02   1.93471441e-02  -1.92462872e-02   1.58051181e-02\n",
      "  -1.54792085e-02   1.45157979e-02   1.35745385e-02   1.33580195e-02\n",
      "  -1.31750659e-02   1.10862007e-02  -1.08998894e-02  -1.03008637e-02\n",
      "   9.51536302e-03  -9.45948716e-03  -8.92789630e-03   8.17708270e-03\n",
      "  -7.70338375e-03   7.49172691e-03   6.01114884e-03  -5.98055075e-03\n",
      "   5.36097188e-03  -5.12061199e-03   4.33937022e-03  -3.37977925e-03\n",
      "  -2.87905171e-03   2.42588668e-03   1.59703235e-03  -1.36929256e-03\n",
      "  -5.29614927e-04]\n",
      "[  1.88737914e-15   1.11022302e-16   1.07691633e-14   6.48780404e-11\n",
      "   7.82304915e-11   2.73850179e-11   5.68332915e-11   2.32061488e-11\n",
      "   2.99384302e-11   4.17934368e-11   3.16031923e-14   4.78258474e-11\n",
      "   6.86804086e-12   3.76682713e-12   1.20918935e-11   2.70249101e-13\n",
      "   3.16247861e-11   3.07306264e-14   1.85954030e-12   5.79951365e-12\n",
      "   1.30827640e-13   2.85229670e-11   2.25568071e-11   1.03996672e-14\n",
      "   4.68482458e-11   6.14109458e-14   1.18709383e-12   6.04899117e-12\n",
      "   2.98920090e-12   4.38334759e-11   5.30504460e-14   6.76235457e-12\n",
      "   3.13471272e-11   1.54964028e-11   1.30265038e-10   2.62971138e-11\n",
      "   4.06059734e-14   3.84888692e-11   1.26990102e-10   4.73797260e-12\n",
      "   8.12936632e-12]\n",
      "[  1.69384617e-09   6.45510134e-09   2.95357783e-08   1.30697623e-05\n",
      "   1.27721800e-05   1.65191143e-05   2.61020866e-05   5.63521291e-06\n",
      "   2.47376097e-05   3.10613005e-05   4.27818030e-07   2.42384104e-06\n",
      "   6.78446605e-06   2.55702909e-06   6.90550172e-06   1.48612066e-06\n",
      "   1.28681212e-05   7.58879011e-07   1.02807614e-05   1.08834622e-05\n",
      "   5.30515317e-07   3.85714800e-05   1.30674797e-05   1.65004590e-07\n",
      "   3.71899951e-05   6.19705276e-07   3.25914141e-06   2.03360154e-05\n",
      "   7.18653388e-06   2.87869671e-05   3.60541307e-06   1.53860652e-05\n",
      "   7.09243485e-05   1.81531775e-05   1.49709060e-05   2.31741489e-05\n",
      "   3.26120598e-07   3.76783291e-05   1.06363571e-04   1.56570885e-05\n",
      "   2.46210965e-05]\n"
     ]
    }
   ],
   "source": [
    "# Feed them into conventional estimator:\n",
    "l, R = vsd.eig_corr(C0, Ct)\n",
    "print l\n",
    "# Use QR-estimator:\n",
    "l1, R1 = vsd.eig_corr_qr(C0, Ct)\n",
    "print l1\n",
    "# Compare results:\n",
    "print np.abs(l - l1)\n",
    "for i in range(R.shape[1]):\n",
    "    R[:, i] = R[:, i] * np.sign(np.dot(R[:, i], R1[:, i]))\n",
    "print np.max(np.abs(R - R1), axis=0)"
   ]
  },
  {
   "cell_type": "code",
   "execution_count": null,
   "metadata": {
    "collapsed": true
   },
   "outputs": [],
   "source": []
  }
 ],
 "metadata": {
  "kernelspec": {
   "display_name": "Python 2",
   "language": "python",
   "name": "python2"
  },
  "language_info": {
   "codemirror_mode": {
    "name": "ipython",
    "version": 2
   },
   "file_extension": ".py",
   "mimetype": "text/x-python",
   "name": "python",
   "nbconvert_exporter": "python",
   "pygments_lexer": "ipython2",
   "version": "2.7.10"
  }
 },
 "nbformat": 4,
 "nbformat_minor": 0
}
